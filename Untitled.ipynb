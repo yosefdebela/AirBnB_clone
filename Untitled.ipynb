{
 "cells": [
  {
   "cell_type": "code",
   "execution_count": 1,
   "id": "3af6aee1-f7cc-48e3-86a4-5bfcf45d0cd8",
   "metadata": {},
   "outputs": [],
   "source": [
    "from models import storage\n"
   ]
  },
  {
   "cell_type": "code",
   "execution_count": 2,
   "id": "ea0e237e-909f-4249-9cbc-acffc026b978",
   "metadata": {},
   "outputs": [
    {
     "data": {
      "text/plain": [
       "['_FileStorage__file_path',\n",
       " '_FileStorage__objects',\n",
       " '__class__',\n",
       " '__delattr__',\n",
       " '__dict__',\n",
       " '__dir__',\n",
       " '__doc__',\n",
       " '__eq__',\n",
       " '__format__',\n",
       " '__ge__',\n",
       " '__getattribute__',\n",
       " '__getstate__',\n",
       " '__gt__',\n",
       " '__hash__',\n",
       " '__init__',\n",
       " '__init_subclass__',\n",
       " '__le__',\n",
       " '__lt__',\n",
       " '__module__',\n",
       " '__ne__',\n",
       " '__new__',\n",
       " '__reduce__',\n",
       " '__reduce_ex__',\n",
       " '__repr__',\n",
       " '__setattr__',\n",
       " '__sizeof__',\n",
       " '__str__',\n",
       " '__subclasshook__',\n",
       " '__weakref__',\n",
       " 'all',\n",
       " 'class_dict',\n",
       " 'delete',\n",
       " 'new',\n",
       " 'reload',\n",
       " 'save']"
      ]
     },
     "execution_count": 2,
     "metadata": {},
     "output_type": "execute_result"
    }
   ],
   "source": [
    "dir(storage)"
   ]
  },
  {
   "cell_type": "code",
   "execution_count": 3,
   "id": "9a27208a-c68b-471b-b3e9-0bf9f6fb8a41",
   "metadata": {},
   "outputs": [
    {
     "data": {
      "text/plain": [
       "{'User.07650537-7217-4043-beb2-744ba98b483c': [User] (07650537-7217-4043-beb2-744ba98b483c) {'id': '07650537-7217-4043-beb2-744ba98b483c', 'created_at': datetime.datetime(2025, 4, 22, 7, 40, 38, 802555), 'updated_at': datetime.datetime(2025, 4, 22, 7, 40, 38, 802605)},\n",
       " 'User.fd7abd91-3fc7-49ca-bd88-5c2550bd2b4e': [User] (fd7abd91-3fc7-49ca-bd88-5c2550bd2b4e) {'id': 'fd7abd91-3fc7-49ca-bd88-5c2550bd2b4e', 'created_at': datetime.datetime(2025, 5, 1, 10, 43, 29, 367548), 'updated_at': datetime.datetime(2025, 5, 1, 10, 43, 29, 367599)},\n",
       " 'BaseModel.9972247d-8ec3-4c71-84c5-fb30a2a734ef': [BaseModel] (9972247d-8ec3-4c71-84c5-fb30a2a734ef) {'id': '9972247d-8ec3-4c71-84c5-fb30a2a734ef', 'created_at': datetime.datetime(2025, 5, 1, 10, 54, 38, 787231), 'updated_at': datetime.datetime(2025, 5, 1, 10, 54, 38, 787271)},\n",
       " 'User.fe156d81-1ae3-4bff-aa48-ddeb728595f8': [User] (fe156d81-1ae3-4bff-aa48-ddeb728595f8) {'id': 'fe156d81-1ae3-4bff-aa48-ddeb728595f8', 'created_at': datetime.datetime(2025, 5, 1, 11, 26, 8, 937398), 'updated_at': datetime.datetime(2025, 5, 1, 11, 26, 8, 937454)},\n",
       " 'User.03193169-3582-4edb-8cbc-487b7f166a4c': [User] (03193169-3582-4edb-8cbc-487b7f166a4c) {'id': '03193169-3582-4edb-8cbc-487b7f166a4c', 'created_at': datetime.datetime(2025, 5, 1, 11, 26, 50, 542229), 'updated_at': datetime.datetime(2025, 5, 1, 11, 26, 50, 542280)}}"
      ]
     },
     "execution_count": 3,
     "metadata": {},
     "output_type": "execute_result"
    }
   ],
   "source": [
    "storage.all()"
   ]
  },
  {
   "cell_type": "code",
   "execution_count": 4,
   "id": "7ac365a0-8ab2-41fc-b13d-65e2073473ec",
   "metadata": {},
   "outputs": [],
   "source": [
    "from models.base_model import BaseModel"
   ]
  },
  {
   "cell_type": "code",
   "execution_count": 5,
   "id": "bade3fab-47dc-479d-b7da-2b3a1b4a5cd0",
   "metadata": {},
   "outputs": [],
   "source": [
    "user1 = BaseModel()\n"
   ]
  },
  {
   "cell_type": "code",
   "execution_count": 6,
   "id": "a37bc374-abba-4610-b40b-a0cef0776a82",
   "metadata": {},
   "outputs": [
    {
     "data": {
      "text/plain": [
       "['__class__',\n",
       " '__delattr__',\n",
       " '__dict__',\n",
       " '__dir__',\n",
       " '__doc__',\n",
       " '__eq__',\n",
       " '__format__',\n",
       " '__ge__',\n",
       " '__getattribute__',\n",
       " '__getstate__',\n",
       " '__gt__',\n",
       " '__hash__',\n",
       " '__init__',\n",
       " '__init_subclass__',\n",
       " '__le__',\n",
       " '__lt__',\n",
       " '__module__',\n",
       " '__ne__',\n",
       " '__new__',\n",
       " '__reduce__',\n",
       " '__reduce_ex__',\n",
       " '__repr__',\n",
       " '__setattr__',\n",
       " '__sizeof__',\n",
       " '__str__',\n",
       " '__subclasshook__',\n",
       " '__weakref__',\n",
       " 'created_at',\n",
       " 'id',\n",
       " 'save',\n",
       " 'to_dict',\n",
       " 'updated_at']"
      ]
     },
     "execution_count": 6,
     "metadata": {},
     "output_type": "execute_result"
    }
   ],
   "source": [
    "dir(user1)"
   ]
  },
  {
   "cell_type": "code",
   "execution_count": 7,
   "id": "d8ffa153-a887-47a0-9b85-b2efe6db4ef9",
   "metadata": {},
   "outputs": [],
   "source": [
    "from models import storage\n"
   ]
  },
  {
   "cell_type": "code",
   "execution_count": 8,
   "id": "69006e3a-3a9b-4fb8-9197-574a4e073b0e",
   "metadata": {},
   "outputs": [
    {
     "data": {
      "text/plain": [
       "{'BaseModel': models.base_model.BaseModel,\n",
       " 'User': models.user.User,\n",
       " 'Place': models.place.Place,\n",
       " 'Amenity': models.amenity.Amenity,\n",
       " 'City': models.city.City,\n",
       " 'Review': models.review.Review,\n",
       " 'State': models.state.State}"
      ]
     },
     "execution_count": 8,
     "metadata": {},
     "output_type": "execute_result"
    }
   ],
   "source": [
    "storage.class_dict\n"
   ]
  },
  {
   "cell_type": "code",
   "execution_count": 9,
   "id": "3b28c824-997e-40dc-9be0-aa93d6c966d0",
   "metadata": {},
   "outputs": [
    {
     "ename": "NameError",
     "evalue": "name 'User' is not defined",
     "output_type": "error",
     "traceback": [
      "\u001b[0;31m---------------------------------------------------------------------------\u001b[0m",
      "\u001b[0;31mNameError\u001b[0m                                 Traceback (most recent call last)",
      "Cell \u001b[0;32mIn[9], line 1\u001b[0m\n\u001b[0;32m----> 1\u001b[0m \u001b[43mUser\u001b[49m \u001b[38;5;129;01min\u001b[39;00m stoarge\u001b[38;5;241m.\u001b[39mclass_dict\n",
      "\u001b[0;31mNameError\u001b[0m: name 'User' is not defined"
     ]
    }
   ],
   "source": [
    "User in stoarge.class_dict"
   ]
  },
  {
   "cell_type": "code",
   "execution_count": 10,
   "id": "9436dfcc-aa70-4896-8fd6-0ad6ccb1a6fc",
   "metadata": {},
   "outputs": [
    {
     "data": {
      "text/plain": [
       "False"
      ]
     },
     "execution_count": 10,
     "metadata": {},
     "output_type": "execute_result"
    }
   ],
   "source": [
    "\"user\" in storage.class_dict\n"
   ]
  },
  {
   "cell_type": "code",
   "execution_count": 11,
   "id": "ae935ebf-c980-4fe9-9834-ec27d02fe63e",
   "metadata": {},
   "outputs": [
    {
     "data": {
      "text/plain": [
       "False"
      ]
     },
     "execution_count": 11,
     "metadata": {},
     "output_type": "execute_result"
    }
   ],
   "source": [
    "\"user\" in storage.class_dict"
   ]
  },
  {
   "cell_type": "code",
   "execution_count": 12,
   "id": "936b0e32-28e7-4497-ae9f-930bef9a49c3",
   "metadata": {},
   "outputs": [
    {
     "data": {
      "text/plain": [
       "True"
      ]
     },
     "execution_count": 12,
     "metadata": {},
     "output_type": "execute_result"
    }
   ],
   "source": [
    "\"User\" in storage.class_dict"
   ]
  },
  {
   "cell_type": "code",
   "execution_count": 13,
   "id": "723b8955-514c-4b1b-a7b7-563fd6998e60",
   "metadata": {},
   "outputs": [
    {
     "ename": "NameError",
     "evalue": "name 'Userr' is not defined",
     "output_type": "error",
     "traceback": [
      "\u001b[0;31m---------------------------------------------------------------------------\u001b[0m",
      "\u001b[0;31mNameError\u001b[0m                                 Traceback (most recent call last)",
      "Cell \u001b[0;32mIn[13], line 1\u001b[0m\n\u001b[0;32m----> 1\u001b[0m usr1 \u001b[38;5;241m=\u001b[39m \u001b[43mUserr\u001b[49m()\n",
      "\u001b[0;31mNameError\u001b[0m: name 'Userr' is not defined"
     ]
    }
   ],
   "source": [
    "usr1 = Userr()"
   ]
  },
  {
   "cell_type": "code",
   "execution_count": 14,
   "id": "534894c7-4ba2-4834-96fb-d0e528354a4b",
   "metadata": {},
   "outputs": [
    {
     "ename": "ImportError",
     "evalue": "cannot import name 'User' from 'models' (/mnt/000B75A500057336/ALX/AirBnB_clone/models/__init__.py)",
     "output_type": "error",
     "traceback": [
      "\u001b[0;31m---------------------------------------------------------------------------\u001b[0m",
      "\u001b[0;31mImportError\u001b[0m                               Traceback (most recent call last)",
      "Cell \u001b[0;32mIn[14], line 1\u001b[0m\n\u001b[0;32m----> 1\u001b[0m \u001b[38;5;28;01mfrom\u001b[39;00m \u001b[38;5;21;01mmodels\u001b[39;00m \u001b[38;5;28;01mimport\u001b[39;00m User\n",
      "\u001b[0;31mImportError\u001b[0m: cannot import name 'User' from 'models' (/mnt/000B75A500057336/ALX/AirBnB_clone/models/__init__.py)"
     ]
    }
   ],
   "source": [
    "from models import User\n"
   ]
  },
  {
   "cell_type": "code",
   "execution_count": 15,
   "id": "92a29041-1a61-4c22-8aa7-4ae1d813c8d0",
   "metadata": {},
   "outputs": [],
   "source": [
    "import os\n"
   ]
  },
  {
   "cell_type": "code",
   "execution_count": 16,
   "id": "2966c235-f743-41a3-8b59-beab7c6c8fe6",
   "metadata": {},
   "outputs": [
    {
     "data": {
      "text/plain": [
       "'/mnt/000B75A500057336/ALX/AirBnB_clone'"
      ]
     },
     "execution_count": 16,
     "metadata": {},
     "output_type": "execute_result"
    }
   ],
   "source": [
    "os.getcwd()"
   ]
  },
  {
   "cell_type": "code",
   "execution_count": 17,
   "id": "0ae8d7c3-ecf8-46fd-a7d3-b975679df6f2",
   "metadata": {},
   "outputs": [],
   "source": [
    "from models.user import User\n"
   ]
  },
  {
   "cell_type": "code",
   "execution_count": 18,
   "id": "7ff55ef3-3452-4638-b4b0-fb04a155aae2",
   "metadata": {},
   "outputs": [],
   "source": [
    "user1 = User()"
   ]
  },
  {
   "cell_type": "code",
   "execution_count": 19,
   "id": "6da4b1a8-2041-4ce4-8627-f095a190ff46",
   "metadata": {},
   "outputs": [
    {
     "data": {
      "text/plain": [
       "{'id': 'cc952158-629a-4f16-8bc4-65d8ad5c2b4a',\n",
       " 'created_at': datetime.datetime(2025, 5, 1, 12, 23, 12, 719587),\n",
       " 'updated_at': datetime.datetime(2025, 5, 1, 12, 23, 12, 719600)}"
      ]
     },
     "execution_count": 19,
     "metadata": {},
     "output_type": "execute_result"
    }
   ],
   "source": [
    "user1.__dict__"
   ]
  },
  {
   "cell_type": "code",
   "execution_count": 20,
   "id": "89e7b73b-89fe-4f0d-8911-c3cc0cffca74",
   "metadata": {},
   "outputs": [],
   "source": [
    "user2 = User(email=\"yosef@gail.com\")"
   ]
  },
  {
   "cell_type": "code",
   "execution_count": 21,
   "id": "f33e21f9-a632-4e6c-8494-11ad5a2dd4ad",
   "metadata": {},
   "outputs": [
    {
     "ename": "AttributeError",
     "evalue": "'User' object has no attribute '__dict___'",
     "output_type": "error",
     "traceback": [
      "\u001b[0;31m---------------------------------------------------------------------------\u001b[0m",
      "\u001b[0;31mAttributeError\u001b[0m                            Traceback (most recent call last)",
      "Cell \u001b[0;32mIn[21], line 1\u001b[0m\n\u001b[0;32m----> 1\u001b[0m \u001b[43muser2\u001b[49m\u001b[38;5;241;43m.\u001b[39;49m\u001b[43m__dict___\u001b[49m\n",
      "\u001b[0;31mAttributeError\u001b[0m: 'User' object has no attribute '__dict___'"
     ]
    }
   ],
   "source": [
    "user2.__dict___"
   ]
  },
  {
   "cell_type": "code",
   "execution_count": null,
   "id": "ab673a1f-2a1b-4fcb-b8cc-6e09e8cfa91d",
   "metadata": {},
   "outputs": [],
   "source": []
  },
  {
   "cell_type": "code",
   "execution_count": 22,
   "id": "44cb52ca-e360-4a00-a8d5-141ea97ee0f5",
   "metadata": {},
   "outputs": [
    {
     "data": {
      "text/plain": [
       "{'email': 'yosef@gail.com'}"
      ]
     },
     "execution_count": 22,
     "metadata": {},
     "output_type": "execute_result"
    }
   ],
   "source": [
    "user2.__dict__"
   ]
  },
  {
   "cell_type": "code",
   "execution_count": 23,
   "id": "173a855c-a6fa-463c-a812-81a8f4ab8ff7",
   "metadata": {},
   "outputs": [
    {
     "ename": "AttributeError",
     "evalue": "'User' object has no attribute 'all'",
     "output_type": "error",
     "traceback": [
      "\u001b[0;31m---------------------------------------------------------------------------\u001b[0m",
      "\u001b[0;31mAttributeError\u001b[0m                            Traceback (most recent call last)",
      "Cell \u001b[0;32mIn[23], line 1\u001b[0m\n\u001b[0;32m----> 1\u001b[0m \u001b[43muser2\u001b[49m\u001b[38;5;241;43m.\u001b[39;49m\u001b[43mall\u001b[49m()\n",
      "\u001b[0;31mAttributeError\u001b[0m: 'User' object has no attribute 'all'"
     ]
    }
   ],
   "source": [
    "user2.all()"
   ]
  },
  {
   "cell_type": "code",
   "execution_count": 24,
   "id": "bed2b4c7-f769-446c-9538-a0d2794778af",
   "metadata": {},
   "outputs": [],
   "source": [
    "user2.save()"
   ]
  },
  {
   "cell_type": "code",
   "execution_count": 25,
   "id": "a8de5c30-8577-43fc-af31-b1471028a998",
   "metadata": {},
   "outputs": [],
   "source": [
    "user3 = User(password=\"yosef\")"
   ]
  },
  {
   "cell_type": "code",
   "execution_count": 26,
   "id": "2b04056d-d1b9-4f47-b8fc-bfeaeb0fc7eb",
   "metadata": {},
   "outputs": [
    {
     "data": {
      "text/plain": [
       "{'password': 'yosef'}"
      ]
     },
     "execution_count": 26,
     "metadata": {},
     "output_type": "execute_result"
    }
   ],
   "source": [
    "user3.__dict__"
   ]
  },
  {
   "cell_type": "code",
   "execution_count": 27,
   "id": "2e4d1abb-c688-4e1f-bc28-980a6d07e706",
   "metadata": {},
   "outputs": [],
   "source": [
    "user3.save()"
   ]
  },
  {
   "cell_type": "code",
   "execution_count": 28,
   "id": "37adb52d-2618-46c4-a0b6-74ddef483b62",
   "metadata": {},
   "outputs": [
    {
     "data": {
      "text/plain": [
       "{'__class__': 'User',\n",
       " 'password': 'yosef',\n",
       " 'updated_at': '2025-05-01T12:31:51.219405'}"
      ]
     },
     "execution_count": 28,
     "metadata": {},
     "output_type": "execute_result"
    }
   ],
   "source": [
    "user3.to_dict()"
   ]
  },
  {
   "cell_type": "code",
   "execution_count": 29,
   "id": "75341cc6-9d84-4faf-9e01-e7dbe12dc85b",
   "metadata": {},
   "outputs": [],
   "source": [
    "import re\n",
    "text = \"Hello, my number is 12345 and my zip is 67890\""
   ]
  },
  {
   "cell_type": "code",
   "execution_count": 30,
   "id": "ea56e8a3-90a4-4c26-a524-bb7699942cba",
   "metadata": {},
   "outputs": [],
   "source": [
    "import re"
   ]
  },
  {
   "cell_type": "code",
   "execution_count": 53,
   "id": "2ac09eed-002b-45ca-bb23-9cca0996e707",
   "metadata": {},
   "outputs": [],
   "source": [
    "mm = re.search(r\"\\d+\", text)"
   ]
  },
  {
   "cell_type": "code",
   "execution_count": 54,
   "id": "5bac5b4b-566f-4613-ad61-926143c3fd3d",
   "metadata": {},
   "outputs": [
    {
     "name": "stdout",
     "output_type": "stream",
     "text": [
      "<re.Match object; span=(20, 25), match='12345'>\n"
     ]
    }
   ],
   "source": [
    "print(mm)"
   ]
  },
  {
   "cell_type": "code",
   "execution_count": 55,
   "id": "c154baba-b6c3-4c26-8b53-5e0915bcb954",
   "metadata": {},
   "outputs": [
    {
     "data": {
      "text/plain": [
       "'12345'"
      ]
     },
     "execution_count": 55,
     "metadata": {},
     "output_type": "execute_result"
    }
   ],
   "source": [
    "mm.group()"
   ]
  },
  {
   "cell_type": "code",
   "execution_count": 56,
   "id": "05a3db7d-b7a3-4b47-a7cf-bc3993ffd9fc",
   "metadata": {},
   "outputs": [
    {
     "data": {
      "text/plain": [
       "20"
      ]
     },
     "execution_count": 56,
     "metadata": {},
     "output_type": "execute_result"
    }
   ],
   "source": [
    "mm.start()"
   ]
  },
  {
   "cell_type": "code",
   "execution_count": 57,
   "id": "384bb0d7-2775-40d6-aa28-90c56aaececa",
   "metadata": {},
   "outputs": [
    {
     "data": {
      "text/plain": [
       "25"
      ]
     },
     "execution_count": 57,
     "metadata": {},
     "output_type": "execute_result"
    }
   ],
   "source": [
    "mm.end()"
   ]
  },
  {
   "cell_type": "code",
   "execution_count": 58,
   "id": "f31a946b-a573-4bfa-a905-59428549d633",
   "metadata": {},
   "outputs": [
    {
     "data": {
      "text/plain": [
       "45"
      ]
     },
     "execution_count": 58,
     "metadata": {},
     "output_type": "execute_result"
    }
   ],
   "source": [
    "len(text)"
   ]
  },
  {
   "cell_type": "code",
   "execution_count": 62,
   "id": "73835ee2-2dd9-4751-9ad7-b5abef1abbc6",
   "metadata": {},
   "outputs": [
    {
     "ename": "AttributeError",
     "evalue": "'NoneType' object has no attribute 'group'",
     "output_type": "error",
     "traceback": [
      "\u001b[0;31m---------------------------------------------------------------------------\u001b[0m",
      "\u001b[0;31mAttributeError\u001b[0m                            Traceback (most recent call last)",
      "Cell \u001b[0;32mIn[62], line 1\u001b[0m\n\u001b[0;32m----> 1\u001b[0m \u001b[43mre\u001b[49m\u001b[38;5;241;43m.\u001b[39;49m\u001b[43msearch\u001b[49m\u001b[43m(\u001b[49m\u001b[38;5;124;43mr\u001b[39;49m\u001b[38;5;124;43m\"\u001b[39;49m\u001b[38;5;124;43m\\\u001b[39;49m\u001b[38;5;124;43md\u001b[39;49m\u001b[38;5;124;43m{\u001b[39;49m\u001b[38;5;124;43m2,}\u001b[39;49m\u001b[38;5;124;43m\"\u001b[39;49m\u001b[43m,\u001b[49m\u001b[43m \u001b[49m\u001b[38;5;124;43m\"\u001b[39;49m\u001b[38;5;124;43m2\u001b[39;49m\u001b[38;5;124;43m\"\u001b[39;49m\u001b[43m)\u001b[49m\u001b[38;5;241;43m.\u001b[39;49m\u001b[43mgroup\u001b[49m()\n",
      "\u001b[0;31mAttributeError\u001b[0m: 'NoneType' object has no attribute 'group'"
     ]
    }
   ],
   "source": [
    "re.search(r\"\\d{2,}\", \"2\").group()"
   ]
  },
  {
   "cell_type": "code",
   "execution_count": null,
   "id": "b2918010-62ef-470d-9045-5bb04c41d953",
   "metadata": {},
   "outputs": [],
   "source": []
  }
 ],
 "metadata": {
  "kernelspec": {
   "display_name": "Python 3 (ipykernel)",
   "language": "python",
   "name": "python3"
  },
  "language_info": {
   "codemirror_mode": {
    "name": "ipython",
    "version": 3
   },
   "file_extension": ".py",
   "mimetype": "text/x-python",
   "name": "python",
   "nbconvert_exporter": "python",
   "pygments_lexer": "ipython3",
   "version": "3.12.5"
  }
 },
 "nbformat": 4,
 "nbformat_minor": 5
}
